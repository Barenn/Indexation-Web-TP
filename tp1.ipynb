{
 "cells": [
  {
   "cell_type": "markdown",
   "metadata": {},
   "source": [
    "# Indexation Web - TP1\n",
    "BERNARD Renan\n",
    "\n",
    "## Introduction\n",
    "\n",
    "Tout d'abord les différentes importations nécessaires pour ce Notebook.\n",
    "Les fonctions utilisées sont dans le fichier __utils.py__."
   ]
  },
  {
   "cell_type": "code",
   "execution_count": 4,
   "metadata": {},
   "outputs": [
    {
     "name": "stdout",
     "output_type": "stream",
     "text": [
      "The autoreload extension is already loaded. To reload it, use:\n",
      "  %reload_ext autoreload\n"
     ]
    }
   ],
   "source": [
    "import numpy as np\n",
    "import pandas as pd\n",
    "import itertools\n",
    "import matplotlib.pyplot as plt\n",
    "\n",
    "from functools import reduce\n",
    "import multiprocessing\n",
    "\n",
    "from utils import *\n",
    "\n",
    "%load_ext autoreload\n",
    "%autoreload 2"
   ]
  },
  {
   "cell_type": "markdown",
   "metadata": {},
   "source": [
    "Récupérons ensuite l'ensemble des données. Nous garderons un DataFrame contenons le texte, l'auteur et l'identifiant du document."
   ]
  },
  {
   "cell_type": "code",
   "execution_count": 2,
   "metadata": {
    "scrolled": true
   },
   "outputs": [
    {
     "name": "stdout",
     "output_type": "stream",
     "text": [
      "CPU times: user 121 ms, sys: 71.9 ms, total: 193 ms\n",
      "Wall time: 464 ms\n"
     ]
    },
    {
     "data": {
      "text/html": [
       "<div>\n",
       "<style scoped>\n",
       "    .dataframe tbody tr th:only-of-type {\n",
       "        vertical-align: middle;\n",
       "    }\n",
       "\n",
       "    .dataframe tbody tr th {\n",
       "        vertical-align: top;\n",
       "    }\n",
       "\n",
       "    .dataframe thead th {\n",
       "        text-align: right;\n",
       "    }\n",
       "</style>\n",
       "<table border=\"1\" class=\"dataframe\">\n",
       "  <thead>\n",
       "    <tr style=\"text-align: right;\">\n",
       "      <th></th>\n",
       "      <th>Text</th>\n",
       "      <th>Author</th>\n",
       "      <th>DocumentId</th>\n",
       "    </tr>\n",
       "  </thead>\n",
       "  <tbody>\n",
       "    <tr>\n",
       "      <td>0</td>\n",
       "      <td>Russia's Fuel and Energy Ministry, sitting on ...</td>\n",
       "      <td>Lynnley Browning</td>\n",
       "      <td>116673</td>\n",
       "    </tr>\n",
       "    <tr>\n",
       "      <td>1</td>\n",
       "      <td>Russia's Western oil joint ventures are findin...</td>\n",
       "      <td>Lynnley Browning</td>\n",
       "      <td>248885</td>\n",
       "    </tr>\n",
       "    <tr>\n",
       "      <td>2</td>\n",
       "      <td>Russian oil company officials said on Friday t...</td>\n",
       "      <td>Lynnley Browning</td>\n",
       "      <td>314644</td>\n",
       "    </tr>\n",
       "    <tr>\n",
       "      <td>3</td>\n",
       "      <td>Azerbaijan is proving more successful in attra...</td>\n",
       "      <td>Lynnley Browning</td>\n",
       "      <td>219830</td>\n",
       "    </tr>\n",
       "    <tr>\n",
       "      <td>4</td>\n",
       "      <td>A multinational group trying to build a $1.5 b...</td>\n",
       "      <td>Lynnley Browning</td>\n",
       "      <td>239689</td>\n",
       "    </tr>\n",
       "  </tbody>\n",
       "</table>\n",
       "</div>"
      ],
      "text/plain": [
       "                                                Text            Author  \\\n",
       "0  Russia's Fuel and Energy Ministry, sitting on ...  Lynnley Browning   \n",
       "1  Russia's Western oil joint ventures are findin...  Lynnley Browning   \n",
       "2  Russian oil company officials said on Friday t...  Lynnley Browning   \n",
       "3  Azerbaijan is proving more successful in attra...  Lynnley Browning   \n",
       "4  A multinational group trying to build a $1.5 b...  Lynnley Browning   \n",
       "\n",
       "  DocumentId  \n",
       "0     116673  \n",
       "1     248885  \n",
       "2     314644  \n",
       "3     219830  \n",
       "4     239689  "
      ]
     },
     "execution_count": 2,
     "metadata": {},
     "output_type": "execute_result"
    }
   ],
   "source": [
    "%%time\n",
    "texts = generate_texts_dataframe()\n",
    "texts.head()"
   ]
  },
  {
   "cell_type": "markdown",
   "metadata": {},
   "source": [
    "Lisons quelques articles."
   ]
  },
  {
   "cell_type": "code",
   "execution_count": 4,
   "metadata": {
    "scrolled": true
   },
   "outputs": [
    {
     "name": "stdout",
     "output_type": "stream",
     "text": [
      "\n",
      "-------------------------------------------- \n",
      "Author :  Lynnley Browning \n",
      "Id :  114005 \n",
      "--------------------------------------------\n",
      "Aluminium industry sources expressed doubt on Monday over whether producers association Kontsern Alyuminiy would be able to contain output to support sagging world prices.\n",
      "\"I don't believe they'll do it,\" said a Western trade source in Moscow.\n",
      "A Moscow representative of the Krasnoyarsk smelter and two sources at the giant Bratsk plant said they had no information on plans to contain output.\n",
      "\"This is a very strategic question on which I have no information,\" said Bratsk-based Andrei Toropovsky of the plant's foreign economic relations department.\n",
      "Kontsern Alyuminiy chief executive Igor Prokopov said Russian smelters had agreed to keep aluminium output at current levels and not to exploit at least 80,000-100,000 tonnes of idle annual capacity.\n",
      "He and Vladimir Kalchenko, the group's first deputy chief executive, referred to weak world prices and unprofitable domestic smelters.\n",
      "But the sources said Kontsern Alyuminiy had little leverage and was unlikely to be able to influence producers.\n",
      "London Metal Exchange (LME) benchmark aluminium prices failed to react seriously and held little changed at $1,330 per tonne in early trade -- a sign that the market may have questions over what the Kontsern Alyuminiy plan means.\n",
      "\"The smelters tend to do what they want individually,\" said a European metals source. \"I don't care what Kontsern Aluminiy says -- it doesn't affect my business.\"\n",
      "Russia, with high electricity and freight costs and low domestic demand, is keen to see higher world metals prices. Aluminium is near 2-1/2 year lows of $1,305 and far below the $1,742 a tonne seen around this time last year.\n",
      "A Russian industry source said profit margins on metal exported at average LME prices in the third quarter of this year were a negative 20 percent at Russia's Novokuznetsk smelter, negative 15 percent at Kandalaksha and negative 15-18 percent at plants in the Urals region.\n",
      "Krasnoyarsk was breaking even, he said. Sayansk and Bratsk had profit margins of plus 10 percent. Irkutsk had 11 percent.\n",
      "It costs Bratsk $1,127 to produce a tonne of aluminium, the source said. Freight charges to European outlets added $160 per tonne, leaving gross profits of about $110 per tonne, assuming LME prices of around $1,400.\n",
      "\"The Siberian smelters have a decent economic situation,\" said Ruslan Fedorovsky of Barclays Physical Trading Limited in London. \"It's profitable for them to let the European smelters (with negative profit margins) die out.\"\n",
      "A Canadian diplomat said last week in Moscow that Russian and Canadian government officials had met to discuss curbing Russian output, rekindling memories of the Memorandum of Understanding (MOU) between major producers Russia, Australia, Canada, the European Union, Norway and the United States.\n",
      "The MOU, designed to cut output by 10 percent and draw down bloated stocks, began in March 1994 and expired this spring.\n",
      "Adding to uncertainty was a statement by Oleg Deripaska, chief executive officer of Sayansk Aluminium, who said on Friday that he expected a decision on decreasing output.\n",
      "But sources said impending Russian purchases of alumina, the raw material for aluminium, would be a better indicator of how much metal Russian smelters plan to produce next year.\n",
      "\"That will be the telling time,\" said one source, referring to buying that should take place by the end of the year.\n",
      "Trade sources in direct contact with Russian smelters said they would keep an eye on Kontsern Alyuminy, but doubted it could influence the industry.\n",
      "\"They (Kontsern Alyuminiy) don't really represent smelters and do not have a lot of credibility,\" one Western source said.\n",
      "--Moscow Newsroom +7095 941 8520\n",
      "\n",
      "\n",
      "-------------------------------------------- \n",
      "Author :  Keith Weir \n",
      "Id :  164490 \n",
      "--------------------------------------------\n",
      "Investors on both sides of the Atlantic applauded the planned $20 billion merger of British Telecom Plc and MCI Communications of the United States Monday, boosting their shares in stock market trading.\n",
      "British, European and U.S. regulators will subject the deal to close scrutiny amid strong opposition to it from rivals, including American long-distance market leader AT&amp;T Corp.\n",
      "British Telecom, or BT, as it is known, said it was optimistic that the European Commission would clear the largest cross-border takeover deal in history, which will create one of the largest groups in the rapidly expanding global telecommunications sector.\n",
      "Britain's communications industry regulatory agency said it was studying the details of the merger and it was too early to pass judgment.\n",
      "BT Chief Executive Sir Peter Bonfield has said it could take a year to clear all the regulatory hurdles.\n",
      "BT's shares powered 32-1/2 pence higher to 383 1/2p -- adding around two billion pounds ($3.3 billion) to the company's market value on huge trading volume of over 40 million shares.\n",
      "MCI gained $1.25 to $31.50 in early trading on Nasdaq, while AT&amp;T fell $1.125 to $33.50 on the New York Stock Exchange.\n",
      "Despite the large cost of the deal to British Telecom -- it will be the biggest-ever acquisition by a British firm -- the deal is seen as having a compelling industrial logic, linking leading phone companies on both sides of the Atlantic.\n",
      "For BT shareholders the deal is also being sugared with a promise of a special one-time 35p dividend payout and a higher rate of general dividend increases in the future.\n",
      "\"It is positive for BT shareholders and positive for the (telecoms) sector,\" said Jim McCafferty, analyst at ABN AMRO Hoare Govett.\n",
      "For customers, the deal promises better service and lower international calling charges, while for businesses it means a company that can support them wherever they are.\n",
      "The merged company will be called Concert Plc. It will be the second-largest international carrier after AT&amp;T.\n",
      "The deal values all of Washington, D.C.-based MCI at just over $25 billion. Since British Telecom already owns 20 percent of MCI, it will issue Concert stock and cash worth $20.1 billion for the remaining 80 percent. Holders of MCI stock will control a third of the stock in the combined company.\n",
      "Larry Stone, BT's head of EU affairs, told Reuters he hoped the deal would be dealt with under the EU's fast-track merger rules and said he did not anticipate any anti-trust problems because the companies \"operate in competitive markets.\"\n",
      "Analysts expect British Telecom and MCI to start making overtures to major Asian players such as Japan's giant Nippon Telegraph and Telephone Corp.\n",
      "But while seeking an Asian partner, MCI appears to be putting another one on a backburner.\n",
      "MCI is to cut its stake in a U.S. satellite television venture with media tycoon Rupert Murdoch to 20 percent from 50 percent, and has said it will probably not increase its stake in Murdoch's News Corp as originally expected.\n",
      "MCI paid $1.35 billion for a stake of just under 9 percent, and could increase it to 13 percent with another $1 billion investment.\n",
      "\n"
     ]
    }
   ],
   "source": [
    "view_article(10, texts)\n",
    "view_article(102, texts)"
   ]
  },
  {
   "cell_type": "markdown",
   "metadata": {},
   "source": [
    "## Création de l'Index\n",
    "\n",
    "L'index est crée selon les specifications de la fonction __create_index_from_text(...)__ dont les explications sont disponibles dans __utils.py__. Pour accélerer le calcul, nous utilisons le modèle _MapReduce_. Le __mapper__ ici correspond à la création de l'index pour un seul document, le __reducer__ correspond à l'_addition_ des index obtenus.\n",
    "\n",
    "Tout d'abord, regardons le temps d'exécution sans __MapReduce__ :"
   ]
  },
  {
   "cell_type": "code",
   "execution_count": 3,
   "metadata": {},
   "outputs": [
    {
     "name": "stdout",
     "output_type": "stream",
     "text": [
      "CPU times: user 31.5 s, sys: 128 ms, total: 31.7 s\n",
      "Wall time: 31.7 s\n"
     ]
    }
   ],
   "source": [
    "%%time\n",
    "index = create_index_from_text(texts.Text[0], 0)\n",
    "for i in range(1, len(texts)):\n",
    "    index_i = create_index_from_text(texts.Text[i], i)\n",
    "    index = sum_two_indexes(index, index_i)"
   ]
  },
  {
   "cell_type": "code",
   "execution_count": 7,
   "metadata": {
    "scrolled": true
   },
   "outputs": [
    {
     "data": {
      "text/plain": [
       "{'total_occurences': 33,\n",
       " 78: {'locations': [213], 'occurences': 1},\n",
       " 80: {'locations': [350], 'occurences': 1},\n",
       " 93: {'locations': [213], 'occurences': 1},\n",
       " 257: {'locations': [205], 'occurences': 1},\n",
       " 266: {'locations': [96], 'occurences': 1},\n",
       " 278: {'locations': [163], 'occurences': 1},\n",
       " 293: {'locations': [84], 'occurences': 1},\n",
       " 462: {'locations': [138], 'occurences': 1},\n",
       " 472: {'locations': [214], 'occurences': 1},\n",
       " 478: {'locations': [141], 'occurences': 1},\n",
       " 959: {'locations': [178], 'occurences': 1},\n",
       " 968: {'locations': [274], 'occurences': 1},\n",
       " 979: {'locations': [212], 'occurences': 1},\n",
       " 1045: {'locations': [162], 'occurences': 1},\n",
       " 1155: {'locations': [190], 'occurences': 1},\n",
       " 1213: {'locations': [17], 'occurences': 1},\n",
       " 1219: {'locations': [61], 'occurences': 1},\n",
       " 1241: {'locations': [114], 'occurences': 1},\n",
       " 1249: {'locations': [244], 'occurences': 1},\n",
       " 1295: {'locations': [137], 'occurences': 1},\n",
       " 1398: {'locations': [179], 'occurences': 1},\n",
       " 1439: {'locations': [183, 293], 'occurences': 2},\n",
       " 1522: {'locations': [243], 'occurences': 1},\n",
       " 1635: {'locations': [74, 231], 'occurences': 2},\n",
       " 1723: {'locations': [143], 'occurences': 1},\n",
       " 1731: {'locations': [318], 'occurences': 1},\n",
       " 1753: {'locations': [453], 'occurences': 1},\n",
       " 1798: {'locations': [72], 'occurences': 1},\n",
       " 2137: {'locations': [249], 'occurences': 1},\n",
       " 2378: {'locations': [107], 'occurences': 1},\n",
       " 2390: {'locations': [107], 'occurences': 1}}"
      ]
     },
     "execution_count": 7,
     "metadata": {},
     "output_type": "execute_result"
    }
   ],
   "source": [
    "index['abandon']"
   ]
  },
  {
   "cell_type": "markdown",
   "metadata": {},
   "source": [
    "Maintenant essayons avec les fonctions __map__ et __reduce__ :"
   ]
  },
  {
   "cell_type": "code",
   "execution_count": 15,
   "metadata": {},
   "outputs": [
    {
     "name": "stdout",
     "output_type": "stream",
     "text": [
      "CPU times: user 4.25 s, sys: 908 ms, total: 5.16 s\n",
      "Wall time: 15.6 s\n"
     ]
    }
   ],
   "source": [
    "%%time \n",
    "def mapper(x):\n",
    "    return create_index_from_text(texts.Text[x], x)\n",
    "\n",
    "with multiprocessing.Pool(processes=4) as pool:\n",
    "        results = pool.map(mapper, range(len(texts)))\n",
    "        \n",
    "index = reduce(sum_two_indexes, list(results))"
   ]
  },
  {
   "cell_type": "code",
   "execution_count": 8,
   "metadata": {
    "scrolled": true
   },
   "outputs": [
    {
     "data": {
      "text/plain": [
       "{'total_occurences': 33,\n",
       " 78: {'locations': [213], 'occurences': 1},\n",
       " 80: {'locations': [350], 'occurences': 1},\n",
       " 93: {'locations': [213], 'occurences': 1},\n",
       " 257: {'locations': [205], 'occurences': 1},\n",
       " 266: {'locations': [96], 'occurences': 1},\n",
       " 278: {'locations': [163], 'occurences': 1},\n",
       " 293: {'locations': [84], 'occurences': 1},\n",
       " 462: {'locations': [138], 'occurences': 1},\n",
       " 472: {'locations': [214], 'occurences': 1},\n",
       " 478: {'locations': [141], 'occurences': 1},\n",
       " 959: {'locations': [178], 'occurences': 1},\n",
       " 968: {'locations': [274], 'occurences': 1},\n",
       " 979: {'locations': [212], 'occurences': 1},\n",
       " 1045: {'locations': [162], 'occurences': 1},\n",
       " 1155: {'locations': [190], 'occurences': 1},\n",
       " 1213: {'locations': [17], 'occurences': 1},\n",
       " 1219: {'locations': [61], 'occurences': 1},\n",
       " 1241: {'locations': [114], 'occurences': 1},\n",
       " 1249: {'locations': [244], 'occurences': 1},\n",
       " 1295: {'locations': [137], 'occurences': 1},\n",
       " 1398: {'locations': [179], 'occurences': 1},\n",
       " 1439: {'locations': [183, 293], 'occurences': 2},\n",
       " 1522: {'locations': [243], 'occurences': 1},\n",
       " 1635: {'locations': [74, 231], 'occurences': 2},\n",
       " 1723: {'locations': [143], 'occurences': 1},\n",
       " 1731: {'locations': [318], 'occurences': 1},\n",
       " 1753: {'locations': [453], 'occurences': 1},\n",
       " 1798: {'locations': [72], 'occurences': 1},\n",
       " 2137: {'locations': [249], 'occurences': 1},\n",
       " 2378: {'locations': [107], 'occurences': 1},\n",
       " 2390: {'locations': [107], 'occurences': 1}}"
      ]
     },
     "execution_count": 8,
     "metadata": {},
     "output_type": "execute_result"
    }
   ],
   "source": [
    "index['abandon']"
   ]
  },
  {
   "cell_type": "markdown",
   "metadata": {},
   "source": [
    "Les résultats sont heureusement les mêmes, mais l'utilisation de __map__ et __reduce__ divise par 2 le temps de calcul."
   ]
  },
  {
   "cell_type": "markdown",
   "metadata": {},
   "source": [
    "## Création de la matrice TF-IDF\n",
    "\n",
    "La matrice TF_IDF (la représation du corpus dans l'espace TF-IDF) est également créer suivant un modèle _MapReduce_, le __mapper__ étant le calcul du TF-IDF pour chaque documents d'un _token_, le __reducer__ étant une simple concaténation."
   ]
  },
  {
   "cell_type": "code",
   "execution_count": 16,
   "metadata": {},
   "outputs": [
    {
     "name": "stdout",
     "output_type": "stream",
     "text": [
      "CPU times: user 960 ms, sys: 850 ms, total: 1.81 s\n",
      "Wall time: 3.07 s\n"
     ]
    }
   ],
   "source": [
    "%%time\n",
    "tokens_count = generate_tokens_count(index)\n",
    "\n",
    "def mapper(token):\n",
    "    return calculate_tf_idf_for_token(index[token], tokens_count)\n",
    "\n",
    "with multiprocessing.Pool(processes=4) as pool:\n",
    "        results = pool.map(mapper, list(index.keys()))\n",
    "\n",
    "matrix_tfidf = np.concatenate(list(results), axis=1)"
   ]
  },
  {
   "cell_type": "markdown",
   "metadata": {},
   "source": [
    "## Mise en place d'une requête du corpus\n",
    "\n",
    "Pour requêter (_query_) le corpus, nous calculons simplement le produit scalaire de la représentation du texte de la requête dans l'espace TF-IDF par la matrice."
   ]
  },
  {
   "cell_type": "code",
   "execution_count": 28,
   "metadata": {
    "scrolled": true
   },
   "outputs": [
    {
     "name": "stdout",
     "output_type": "stream",
     "text": [
      "CPU times: user 81.1 ms, sys: 14.9 ms, total: 96 ms\n",
      "Wall time: 58.5 ms\n"
     ]
    },
    {
     "data": {
      "text/html": [
       "<div>\n",
       "<style scoped>\n",
       "    .dataframe tbody tr th:only-of-type {\n",
       "        vertical-align: middle;\n",
       "    }\n",
       "\n",
       "    .dataframe tbody tr th {\n",
       "        vertical-align: top;\n",
       "    }\n",
       "\n",
       "    .dataframe thead th {\n",
       "        text-align: right;\n",
       "    }\n",
       "</style>\n",
       "<table border=\"1\" class=\"dataframe\">\n",
       "  <thead>\n",
       "    <tr style=\"text-align: right;\">\n",
       "      <th></th>\n",
       "      <th>DotProduct</th>\n",
       "      <th>Text</th>\n",
       "      <th>Author</th>\n",
       "      <th>DocumentId</th>\n",
       "    </tr>\n",
       "  </thead>\n",
       "  <tbody>\n",
       "    <tr>\n",
       "      <td>1312</td>\n",
       "      <td>0.138641</td>\n",
       "      <td>Zhuhai, China Nov 5. (Reuter) China's flag car...</td>\n",
       "      <td>Jim Gilchrist</td>\n",
       "      <td>166432</td>\n",
       "    </tr>\n",
       "    <tr>\n",
       "      <td>1198</td>\n",
       "      <td>0.135079</td>\n",
       "      <td>China is unlikely to concede on its demand to ...</td>\n",
       "      <td>Jane Macartney</td>\n",
       "      <td>242319</td>\n",
       "    </tr>\n",
       "    <tr>\n",
       "      <td>1150</td>\n",
       "      <td>0.134272</td>\n",
       "      <td>China is unlikely to concede on its demand to ...</td>\n",
       "      <td>Jane Macartney</td>\n",
       "      <td>242519</td>\n",
       "    </tr>\n",
       "    <tr>\n",
       "      <td>830</td>\n",
       "      <td>0.131013</td>\n",
       "      <td>China must make real changes to its economy if...</td>\n",
       "      <td>Mure Dickie</td>\n",
       "      <td>126632</td>\n",
       "    </tr>\n",
       "    <tr>\n",
       "      <td>1825</td>\n",
       "      <td>0.124948</td>\n",
       "      <td>China, in a bid to boost the its aerospace ind...</td>\n",
       "      <td>Tan Ee Lyn</td>\n",
       "      <td>169589</td>\n",
       "    </tr>\n",
       "    <tr>\n",
       "      <td>1320</td>\n",
       "      <td>0.124416</td>\n",
       "      <td>DHL Worldwide Express plans to strengthen its ...</td>\n",
       "      <td>Jim Gilchrist</td>\n",
       "      <td>138497</td>\n",
       "    </tr>\n",
       "    <tr>\n",
       "      <td>1560</td>\n",
       "      <td>0.118853</td>\n",
       "      <td>Wheat is unlikely to become a casualty of the ...</td>\n",
       "      <td>Lynne Donnell</td>\n",
       "      <td>15736</td>\n",
       "    </tr>\n",
       "    <tr>\n",
       "      <td>1380</td>\n",
       "      <td>0.118372</td>\n",
       "      <td>Russia will push to expand economic ties with ...</td>\n",
       "      <td>William Kazer</td>\n",
       "      <td>209813</td>\n",
       "    </tr>\n",
       "    <tr>\n",
       "      <td>1579</td>\n",
       "      <td>0.111065</td>\n",
       "      <td>Wheat is unlikely to become a casualty of the ...</td>\n",
       "      <td>Lynne Donnell</td>\n",
       "      <td>17858</td>\n",
       "    </tr>\n",
       "    <tr>\n",
       "      <td>2287</td>\n",
       "      <td>0.101874</td>\n",
       "      <td>Hong Kong business groups hit back on Wednesda...</td>\n",
       "      <td>Sarah Davison</td>\n",
       "      <td>310654</td>\n",
       "    </tr>\n",
       "    <tr>\n",
       "      <td>2276</td>\n",
       "      <td>0.101571</td>\n",
       "      <td>Hong Kong business groups hit back on Wednesda...</td>\n",
       "      <td>Sarah Davison</td>\n",
       "      <td>310313</td>\n",
       "    </tr>\n",
       "    <tr>\n",
       "      <td>1565</td>\n",
       "      <td>0.101344</td>\n",
       "      <td>While China's leaders peppered 1996 with assur...</td>\n",
       "      <td>Lynne Donnell</td>\n",
       "      <td>275670</td>\n",
       "    </tr>\n",
       "    <tr>\n",
       "      <td>1192</td>\n",
       "      <td>0.099788</td>\n",
       "      <td>China defended on Saturday its decision to exe...</td>\n",
       "      <td>Jane Macartney</td>\n",
       "      <td>301144</td>\n",
       "    </tr>\n",
       "    <tr>\n",
       "      <td>1744</td>\n",
       "      <td>0.099516</td>\n",
       "      <td>With China's takeover of Hong Kong rapidly loo...</td>\n",
       "      <td>Peter Humphrey</td>\n",
       "      <td>227262</td>\n",
       "    </tr>\n",
       "    <tr>\n",
       "      <td>834</td>\n",
       "      <td>0.098860</td>\n",
       "      <td>A China-wide computer network launched by a su...</td>\n",
       "      <td>Mure Dickie</td>\n",
       "      <td>130515</td>\n",
       "    </tr>\n",
       "    <tr>\n",
       "      <td>1398</td>\n",
       "      <td>0.097785</td>\n",
       "      <td>China said on Sunday the United States was try...</td>\n",
       "      <td>William Kazer</td>\n",
       "      <td>195340</td>\n",
       "    </tr>\n",
       "    <tr>\n",
       "      <td>1209</td>\n",
       "      <td>0.097483</td>\n",
       "      <td>China called on Taiwan on Tuesday to show good...</td>\n",
       "      <td>Benjamin Kang Lim</td>\n",
       "      <td>15741</td>\n",
       "    </tr>\n",
       "    <tr>\n",
       "      <td>1563</td>\n",
       "      <td>0.095705</td>\n",
       "      <td>Canadian and Australian sales of malting barle...</td>\n",
       "      <td>Lynne Donnell</td>\n",
       "      <td>180191</td>\n",
       "    </tr>\n",
       "    <tr>\n",
       "      <td>1832</td>\n",
       "      <td>0.093225</td>\n",
       "      <td>Air China, China's largest carrier, plans to i...</td>\n",
       "      <td>Tan Ee Lyn</td>\n",
       "      <td>169609</td>\n",
       "    </tr>\n",
       "    <tr>\n",
       "      <td>1584</td>\n",
       "      <td>0.092658</td>\n",
       "      <td>China's decision to ban imports of some U.S. c...</td>\n",
       "      <td>Lynne Donnell</td>\n",
       "      <td>111855</td>\n",
       "    </tr>\n",
       "  </tbody>\n",
       "</table>\n",
       "</div>"
      ],
      "text/plain": [
       "      DotProduct                                               Text  \\\n",
       "1312    0.138641  Zhuhai, China Nov 5. (Reuter) China's flag car...   \n",
       "1198    0.135079  China is unlikely to concede on its demand to ...   \n",
       "1150    0.134272  China is unlikely to concede on its demand to ...   \n",
       "830     0.131013  China must make real changes to its economy if...   \n",
       "1825    0.124948  China, in a bid to boost the its aerospace ind...   \n",
       "1320    0.124416  DHL Worldwide Express plans to strengthen its ...   \n",
       "1560    0.118853  Wheat is unlikely to become a casualty of the ...   \n",
       "1380    0.118372  Russia will push to expand economic ties with ...   \n",
       "1579    0.111065  Wheat is unlikely to become a casualty of the ...   \n",
       "2287    0.101874  Hong Kong business groups hit back on Wednesda...   \n",
       "2276    0.101571  Hong Kong business groups hit back on Wednesda...   \n",
       "1565    0.101344  While China's leaders peppered 1996 with assur...   \n",
       "1192    0.099788  China defended on Saturday its decision to exe...   \n",
       "1744    0.099516  With China's takeover of Hong Kong rapidly loo...   \n",
       "834     0.098860  A China-wide computer network launched by a su...   \n",
       "1398    0.097785  China said on Sunday the United States was try...   \n",
       "1209    0.097483  China called on Taiwan on Tuesday to show good...   \n",
       "1563    0.095705  Canadian and Australian sales of malting barle...   \n",
       "1832    0.093225  Air China, China's largest carrier, plans to i...   \n",
       "1584    0.092658  China's decision to ban imports of some U.S. c...   \n",
       "\n",
       "                 Author DocumentId  \n",
       "1312      Jim Gilchrist     166432  \n",
       "1198     Jane Macartney     242319  \n",
       "1150     Jane Macartney     242519  \n",
       "830         Mure Dickie     126632  \n",
       "1825         Tan Ee Lyn     169589  \n",
       "1320      Jim Gilchrist     138497  \n",
       "1560      Lynne Donnell      15736  \n",
       "1380      William Kazer     209813  \n",
       "1579      Lynne Donnell      17858  \n",
       "2287      Sarah Davison     310654  \n",
       "2276      Sarah Davison     310313  \n",
       "1565      Lynne Donnell     275670  \n",
       "1192     Jane Macartney     301144  \n",
       "1744     Peter Humphrey     227262  \n",
       "834         Mure Dickie     130515  \n",
       "1398      William Kazer     195340  \n",
       "1209  Benjamin Kang Lim      15741  \n",
       "1563      Lynne Donnell     180191  \n",
       "1832         Tan Ee Lyn     169609  \n",
       "1584      Lynne Donnell     111855  "
      ]
     },
     "execution_count": 28,
     "metadata": {},
     "output_type": "execute_result"
    }
   ],
   "source": [
    "%%time\n",
    "query_corpus(\"china\", index, matrix_tfidf, texts, nb_to_show=20)"
   ]
  },
  {
   "cell_type": "code",
   "execution_count": 91,
   "metadata": {},
   "outputs": [
    {
     "name": "stdout",
     "output_type": "stream",
     "text": [
      "\"franc\" appears in 199 documents.\n",
      "\"air\" appears in 168 documents.\n",
      "All words in 39 documents.\n",
      "Exact matches in  9 documents.\n",
      "{1258, 1291, 1295, 1297, 948, 919, 1274, 1276, 1279}\n",
      "CPU times: user 3.99 ms, sys: 0 ns, total: 3.99 ms\n",
      "Wall time: 3.38 ms\n"
     ]
    }
   ],
   "source": [
    "%%time\n",
    "search_results = search_words(\"france air\", index)\n",
    "print(search_results.get(\"exact_matches\"))"
   ]
  },
  {
   "cell_type": "code",
   "execution_count": 73,
   "metadata": {},
   "outputs": [
    {
     "data": {
      "text/plain": [
       "1"
      ]
     },
     "execution_count": 73,
     "metadata": {},
     "output_type": "execute_result"
    }
   ],
   "source": [
    "len(set(np.asarray(index['china'][1584]['locations'])).intersection(set(np.asarray(index['decis'][1584]['locations']) - 1)))"
   ]
  },
  {
   "cell_type": "code",
   "execution_count": 89,
   "metadata": {},
   "outputs": [
    {
     "name": "stdout",
     "output_type": "stream",
     "text": [
      "\n",
      "--------------------------------------------\n",
      "Author : Pierre Tran\n",
      "Id : 204524\n",
      "--------------------------------------------\n",
      "State-owned Air France on Wednesday reported dramatically improved earnings of 802 million francs ($158 million) in the first half and placed a bumper order for 20 Boeing and Airbus aircraft, plus options.\n",
      "The profit estimate for the six months to September 30, which emerged in an Air France board statement, compared with a loss of 335 million francs a year ago.\n",
      "The improved results and Air France's aim to break even in 1996/97 was underlined with orders for 10 Boeing 777 twinjets, and options for 10 more. The airline also ordered five Airbus A340s, confirmed five orders made in June and options for a further five.\n",
      "Air France chairman Christian Blanc won vital support from Prime Minister Alain Juppe to buy from Seattle-based Boeing instead of ordering solely from its archrival Airbus Industrie , the European consortium based in southwest France.\n",
      "At catalogue prices, which are rarely paid, the orders and options for the Boeing 777-200 version ordered could be worth around $2.7 billion. Airbus would stand to gain $1.75 billion.\n",
      "List prices for the B777-200 range between $128 and $146 million, while the Airbus A340-300 costs $110 to $120 million.\n",
      "\"In the reorganisation of its fleet, Air France is obliged to buy Boeing,\" Transport Minister Bernard Pons told parliament.\n",
      "\"It is obliged to meet commitments made in 1989, unless it accepts losing deposits and taking legal action which risks being much more expensive than taking this decision.\"\n",
      "The French airline had orders outstanding with Boeing worth $994 million and $2 billion of options, Pons said, adding that the airline had skillfully negotiated the latest order to respect the initial undertaking.\n",
      "The three state representatives on the Air France board approved the Boeing 777 purchase \"not because they are the best or the most profitable but because they best meet the company's needs,\" Pons said.\n",
      "Air France had also accepted to be a launch customer for the planned A340-600, a \"stretched\" version of the A340, he said.\n",
      "Airbus hopes to build the 375-seater to smash Boeing's monopoly at the large capacity aircraft segment.\n",
      "Air France said that due to financial problems, it froze at the end of 1994 all aircraft orders, including the 1989 Boeing order, and opened talks with the two plane-makers.\n",
      "Air France has since rationalised its fleet, restructured its network around a centralised \"hub\" at Paris Charles De Gaulle airport and optimised aircraft use. It has over the past two years increased the number of flying hours by 14 percent.\n",
      "Pons welcomed Air France's financial results, saying: \"The results are very encouraging.\"\n",
      "The company said it made its profit despite a rise in spending on fuel of nearly 500 million francs for the period.\n",
      "Turnover was up nearly five percent to 21.3 billion francs due to a 14.8 percent increase in passenger traffic and a 6.7 percent rise in freight.\n",
      "Operating profit rose nearly 30 percent to 1.1 billion francs, compared with 849 million in the year-earlier period. The pretax, pre-exceptional result tripled to 660 million francs.\n",
      "Air France was ahead by \"a little more than 250 million francs of its budget\" at the six months stage, the company said. The first half is traditionally better for seasonal reasons and should not be used to extrapolate for the full year, it added.\n",
      "Debt stood at 12.9 billion francs at September 30, versus 19.2 billion at March 31, 1996. The repayment of 6.3 billion francs significantly exceeded the last tranche of its state recapitalisation paid in September.\n",
      "The Boeing order consists of the heavier \"Increased Gross Weight\" version of the basic 777-200, equipped with GE90 engines built by General Electric and France's Snecma. The B777-200 will seat 288 passengers in three-classes.\n",
      "The Airbus order is for the A340-200E version equipped with CFM56-5C4 engines. ($1=5.075 French Franc)\n",
      "\n"
     ]
    }
   ],
   "source": [
    "view_article(948, texts)"
   ]
  },
  {
   "cell_type": "code",
   "execution_count": null,
   "metadata": {},
   "outputs": [],
   "source": []
  }
 ],
 "metadata": {
  "kernelspec": {
   "display_name": "Python 3",
   "language": "python",
   "name": "python3"
  },
  "language_info": {
   "codemirror_mode": {
    "name": "ipython",
    "version": 3
   },
   "file_extension": ".py",
   "mimetype": "text/x-python",
   "name": "python",
   "nbconvert_exporter": "python",
   "pygments_lexer": "ipython3",
   "version": "3.7.4"
  }
 },
 "nbformat": 4,
 "nbformat_minor": 4
}
