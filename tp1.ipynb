{
 "cells": [
  {
   "cell_type": "markdown",
   "metadata": {},
   "source": [
    "# Indexation Web - TP1\n",
    "BERNARD Renan\n",
    "\n",
    "## Introduction\n",
    "\n",
    "Tout d'abord les différentes importations nécessaires pour ce Notebook.\n",
    "Les fonctions utilisées sont dans le fichier __utils.py__."
   ]
  },
  {
   "cell_type": "code",
   "execution_count": 1,
   "metadata": {},
   "outputs": [],
   "source": [
    "%load_ext autoreload\n",
    "%autoreload 2"
   ]
  },
  {
   "cell_type": "code",
   "execution_count": 2,
   "metadata": {},
   "outputs": [
    {
     "name": "stderr",
     "output_type": "stream",
     "text": [
      "[nltk_data] Downloading package stopwords to\n",
      "[nltk_data]     /home/mathilde/nltk_data...\n",
      "[nltk_data]   Package stopwords is already up-to-date!\n"
     ]
    }
   ],
   "source": [
    "import numpy as np\n",
    "import pandas as pd\n",
    "import itertools\n",
    "import matplotlib.pyplot as plt\n",
    "\n",
    "from functools import reduce\n",
    "import multiprocessing\n",
    "\n",
    "from utils import *"
   ]
  },
  {
   "cell_type": "markdown",
   "metadata": {},
   "source": [
    "Récupérons ensuite l'ensemble des données. Nous garderons un DataFrame contenons le texte, l'auteur et l'identifiant du document."
   ]
  },
  {
   "cell_type": "code",
   "execution_count": 3,
   "metadata": {
    "scrolled": true
   },
   "outputs": [
    {
     "name": "stdout",
     "output_type": "stream",
     "text": [
      "CPU times: user 48 ms, sys: 20 ms, total: 68 ms\n",
      "Wall time: 67.4 ms\n"
     ]
    },
    {
     "data": {
      "text/html": [
       "<div>\n",
       "<style scoped>\n",
       "    .dataframe tbody tr th:only-of-type {\n",
       "        vertical-align: middle;\n",
       "    }\n",
       "\n",
       "    .dataframe tbody tr th {\n",
       "        vertical-align: top;\n",
       "    }\n",
       "\n",
       "    .dataframe thead th {\n",
       "        text-align: right;\n",
       "    }\n",
       "</style>\n",
       "<table border=\"1\" class=\"dataframe\">\n",
       "  <thead>\n",
       "    <tr style=\"text-align: right;\">\n",
       "      <th></th>\n",
       "      <th>Text</th>\n",
       "      <th>Author</th>\n",
       "      <th>DocumentId</th>\n",
       "    </tr>\n",
       "  </thead>\n",
       "  <tbody>\n",
       "    <tr>\n",
       "      <th>0</th>\n",
       "      <td>France's state-owned electricity utility Elect...</td>\n",
       "      <td>Marcel Michelson</td>\n",
       "      <td>18555</td>\n",
       "    </tr>\n",
       "    <tr>\n",
       "      <th>1</th>\n",
       "      <td>French carmakers Renault SA and Peugeot PSA sa...</td>\n",
       "      <td>Marcel Michelson</td>\n",
       "      <td>187829</td>\n",
       "    </tr>\n",
       "    <tr>\n",
       "      <th>2</th>\n",
       "      <td>The French government has started a wide consu...</td>\n",
       "      <td>Marcel Michelson</td>\n",
       "      <td>197891</td>\n",
       "    </tr>\n",
       "    <tr>\n",
       "      <th>3</th>\n",
       "      <td>The French Industry Minister on Wednesday angr...</td>\n",
       "      <td>Marcel Michelson</td>\n",
       "      <td>221246</td>\n",
       "    </tr>\n",
       "    <tr>\n",
       "      <th>4</th>\n",
       "      <td>French state-owned airline Air France said on ...</td>\n",
       "      <td>Marcel Michelson</td>\n",
       "      <td>141744</td>\n",
       "    </tr>\n",
       "  </tbody>\n",
       "</table>\n",
       "</div>"
      ],
      "text/plain": [
       "                                                Text            Author  \\\n",
       "0  France's state-owned electricity utility Elect...  Marcel Michelson   \n",
       "1  French carmakers Renault SA and Peugeot PSA sa...  Marcel Michelson   \n",
       "2  The French government has started a wide consu...  Marcel Michelson   \n",
       "3  The French Industry Minister on Wednesday angr...  Marcel Michelson   \n",
       "4  French state-owned airline Air France said on ...  Marcel Michelson   \n",
       "\n",
       "  DocumentId  \n",
       "0      18555  \n",
       "1     187829  \n",
       "2     197891  \n",
       "3     221246  \n",
       "4     141744  "
      ]
     },
     "execution_count": 3,
     "metadata": {},
     "output_type": "execute_result"
    }
   ],
   "source": [
    "%%time\n",
    "texts = generate_texts_dataframe()\n",
    "texts.head()"
   ]
  },
  {
   "cell_type": "markdown",
   "metadata": {},
   "source": [
    "Lisons quelques articles."
   ]
  },
  {
   "cell_type": "code",
   "execution_count": 4,
   "metadata": {
    "scrolled": true
   },
   "outputs": [
    {
     "name": "stdout",
     "output_type": "stream",
     "text": [
      "\n",
      "--------------------------------------------\n",
      "Author : Marcel Michelson\n",
      "Id : 137480\n",
      "--------------------------------------------\n",
      "British Airways Plc (BA) on Wednesday boosted its position in France when French bank Rivaud joined its bid for ailing French regional airline Air Liberte.\n",
      "Rivaud, a founding shareholder in Air Liberte and a former partner in a rival consortium, agreed with BA after marathon talks started on Tuesday afternoon and ending at this morning.\n",
      "It is the only bid left on the table and the commercial court in Creteil is expected to approve the offer on Friday. Richard Branson's Brussels-based Virgin Express and commercial pilot Fernand Denan had also been working on takeover offers.\n",
      "The BA/Rivaud proposal still needs the blessing of Air Liberte's creditors and French political authorities.\n",
      "Air Liberte has a 12 percent stake of the domestic French market and BA's TAT unit eight percent. The market is still dominated by the state-owned Air France group.\n",
      "\"The situation is delicate,\" said Mark Rochet, chairman of TAT, adding he hoped the court would take a quick decision.\n",
      "\"Our partnership with the Groupe Rivaud offers the ideal solution for Air Liberte's very poor financial position. To save it requires quick action,\" BA chief executive Robert Ayling said in a statement.\n",
      "\"It's an excellent solution. We keep all the assets. I do not see another French solution, the last deadline was Friday,\" Air Liberte founder and chairman Lotfi Belhassine told Reuters.\n",
      "British Airways will make a 440 million franc ($85.3 million) equity investment for a 70 percent stake in Air Liberte and Rivaud will put up 190 million for the remaining 30 percent. On top of that Rivaud will make a write down on 500 million francs of its old stake and also on some 60 million francs in loan stocks.\n",
      "Both companies will pay the costs of running Air Liberte during administration, estimated at 150 million francs.\n",
      "Rochet told a news conference Air Liberte's debt now stands at 800 million francs. Creditors can either get 20 percent of their money in cash or get fully paid over 10 years.\n",
      "Rivaud, headed by industrialist Vincent Bollore, had originally been part of a consortium of travel groups Nouvelles Frontieres, Club Mediterannee and Royal Air Maroc.\n",
      "Nouvelles Frontieres chairman Jacques Maillot said he and the Moroccan airline had withdrawn because of the \"extraordinary disastrous financial situation\" of Air Liberte.\n",
      "Bollore is chairman of a shipping and financial group with his name. He was made the chairman of Rivaud last week and the bank is increasing its capital especially for Air Liberte.\n",
      "A Bollore official said Rivaud had changed camps on Tuesday after Nouvelles Frontieres and other partners said they were unwilling to stump up the money needed for a two-third stake.\n",
      "Rivaud, Club Med and airplane leasing company ILFC were among the original backers of Air Liberte eight years ago.\n",
      "The BA/Rivaud plan is based on the three-year business plan for Air Liberte drawn up by BA. It will safeguard 1,250 out of 1,400 Air Liberte jobs and aims for break-even in 1999.\n",
      "Belhassine will continue to run Air Liberte which owns about a quarter of the landing and take-off slots at Orly airport, Paris' second airport specialising in domestic flights.\n",
      "It lost 650 million francs in the first nine months of 1996 due to an air fare war and insufficient passenger numbers in the run-up to full liberalisation of French airspace in 1997. ($1=5.157 French Franc)\n",
      "\n",
      "\n",
      "--------------------------------------------\n",
      "Author : Samuel Perry\n",
      "Id : 195461\n",
      "--------------------------------------------\n",
      "A fast-selling product that allows grannies all across America to exchange electronic mail securely with their families may become a key weapon in challenging the U.S. government's tight encryption policies.\n",
      "Computer industry executives said the strong encryption which startup USWeb Networks is delivering on hundreds of thousands of television-based Internet browsing devices is still prohibited from export by U.S. Cold War munitions laws.\n",
      "Executives at Palo Alto, Calif.-based WebTV said they chose to use the strongest coding standard available to give consumers the assurance their communications would be kept confidential.\n",
      "\"The only way we felt we could guarantee the level of security we felt was uncrackable by anyone...was if we were essentially using CIA-class security procedures,\" said Steve Perlman, co-founder and chief executive of WebTV Networks.\n",
      "WebTV uses 128-bit encryption, based on coded 'keys' with 128 characters of information, the same level of coding used in some of the most secretive U.S. government communications.\n",
      "\"It's very similar to what they use when they're communicating with cruise missiles,\" Perlman said.\n",
      "This is a useful fact to point out in reassuring potential customers they can both communicate and pay for goods and services securely over the Internet, he added.\n",
      "\"They love it. They really love it, beause now they can just relax and forget about it,\" he said. Using a credit card number over WebTV's encrypted communications is safer than reading it over a telephone, which can be tapped, he argues.\n",
      "\"While the FBI can get your credit card that way (over the telephone), they can't get it through WebTV,\" he said.\n",
      "Perhaps equally excited about the decision by WebTV to use such strong encryption is the Silicon Valley high tech business community, which has been deadlocked in a battle with the Clinton administration over encryption restrictions.\n",
      "Laws against the export of encryption date back to the start of the Cold War, when earlier versions of coding were considered vital to national security and were classified as munitions explicitly barred from export.\n",
      "Top computer executives now say the use of encryption in relatively normal, consumer-oriented applications such as WebTV is a perfect example why they feel the government's efforts to restrict the technology should ultimately fail.\n",
      "\"Without commenting specifically on WebTV, I can tell you that the government is fighting essentially a losing battle here,\" said Eric Schmidt, chief technology officer at Sun Microsystems Inc.\n",
      "\"What's happened is that the technology is now so ubiquitous and there are so many people using it that the current law...really needs to be scrapped.\"\n",
      "In addition to the need for U.S. businesses to have strong encryption to secure their own systems when operating overseas, the computer industry argues that competitors in other countries are being given an open market to sell higher levels of encryption U.S. companies are barred from selling.\n",
      "But Washington insists that law enforcement authorities must have a means of breaking into encoded messages to investigate criminal activity.\n",
      "The Administration recently offered a compromise where companies could export modestly strong 'keys,' less powerful than those used by WebTV, as long as they could be recovered by authorities to crack codes after obtaining a court warrant.\n",
      "Industry is not pleased with the idea.\n",
      "It would be difficult, and unduly expensive, to administer and is unlikely to be acceptable to foreign customers who might not consider the U.S. government to have a right to break into their confidential communications, many argue.\n",
      "\"Our personal view is that the notion of key recovery is something that's not going to be very acceptable, particularly to other countries -- the notion that the U.S. government would be able to recover the keys,\" said Deborah Triant, chief executive of Check Point Software Technologies, Inc.\n",
      "In the meantime, however, WebTV will be prohibited except by special license from exporting its devices, which are being sold by consumer electronics manufacturers Sony Corp. and Philips Electronics NV through retail stores.\n",
      "In fact, the issue came to light publicly following a letter from one of the manufacturers to its distributors, warning not to export the machines due to the munitions laws.\n",
      "\"It would definitely be unfortunate if sombedy was to carry one over the border,\" said Perlman, adding the WebTV boxes have more computing power than the world's most powerful supercomputer -- Cray Reasearch's XMP-48 -- did in 1987.\n",
      "\"That was a $50 million computer in 1987. This is a $300 computer and it outperforms the Cray,\" he said.\n",
      "WebTV has attracted investments from Microsoft Corp. and a unit of US West Inc..\n",
      "\"This WebTV is the first of many we're going to see where legitimate customers really do need very strong encryption for things involving really normal day-to-day use,\" said Schmidt.\n",
      "\n"
     ]
    }
   ],
   "source": [
    "view_article(10, texts)\n",
    "view_article(102, texts)"
   ]
  },
  {
   "cell_type": "markdown",
   "metadata": {},
   "source": [
    "## Préparation des textes\n",
    "\n",
    "Le premier traitement est la transformation des phrases en un liste de mot, en miniscule, contenant uniquement des caractères numériques. Pour celà, on utilise une expression régulière.\n",
    "\n",
    "On enlève ensuite les 'stopWords' qui n'apportent pas d'information sur le contenu de l'article.\n",
    "\n",
    "Puis on a choisis d'utiliser un stemmer. Cette méthode enlève les préfixes et suffixes des mots pour garder uniquement la racine. Celle-ci n'est pas forcement un mot qui existe réellement.\n",
    "\n",
    "C'est la fonction  _tokenize_text_ qui fait cette étape. Elle est présente dans __utils.py__."
   ]
  },
  {
   "cell_type": "markdown",
   "metadata": {},
   "source": [
    "## Création de l'Index\n",
    "\n",
    "\n",
    "Afin de trouver rapidement les documents qui contiennent un certain mot, nous créons un index. On a choisit de faire un index de la forme suivante : \\\\\n",
    "    {\"token1\" : {\"total_occurences\" : 4, \\\n",
    "                         article1 : {\"locations\" : [12, 13, 14],\n",
    "                                 \"occurences\" : 3}, \\\n",
    "                         article2 : {\"locations\" : [9],\n",
    "                                 \"occurences\" : 1}}}\n",
    "                                 \n",
    "Nous avons d'abord essayer de créer l'index avec une programmation simple comprenant différentes boucles. \n",
    "                               \n",
    "Puis nous l'amélierons avec le modèle _MapReduce_. L'index est crée selon les specifications de la fonction __create_index_from_text(...)__ dont les explications sont disponibles dans __utils.py__. Le __mapper__ ici correspond à la création de l'index pour un seul document, le __reducer__ correspond à l'_addition_ des index obtenus.\n",
    "\n",
    "Tout d'abord, regardons le temps d'exécution sans __MapReduce__ :"
   ]
  },
  {
   "cell_type": "code",
   "execution_count": 5,
   "metadata": {},
   "outputs": [
    {
     "name": "stdout",
     "output_type": "stream",
     "text": [
      "CPU times: user 13.2 s, sys: 84 ms, total: 13.3 s\n",
      "Wall time: 13.3 s\n"
     ]
    }
   ],
   "source": [
    "%%time\n",
    "index = create_index_from_text(texts.Text[0], 0)\n",
    "for i in range(1, len(texts)):\n",
    "    index_i = create_index_from_text(texts.Text[i], i)\n",
    "    index = sum_two_indexes(index, index_i)"
   ]
  },
  {
   "cell_type": "code",
   "execution_count": 7,
   "metadata": {
    "scrolled": true
   },
   "outputs": [
    {
     "data": {
      "text/plain": [
       "{'total_occurences': 33,\n",
       " 78: {'locations': [213], 'occurences': 1},\n",
       " 80: {'locations': [350], 'occurences': 1},\n",
       " 93: {'locations': [213], 'occurences': 1},\n",
       " 257: {'locations': [205], 'occurences': 1},\n",
       " 266: {'locations': [96], 'occurences': 1},\n",
       " 278: {'locations': [163], 'occurences': 1},\n",
       " 293: {'locations': [84], 'occurences': 1},\n",
       " 462: {'locations': [138], 'occurences': 1},\n",
       " 472: {'locations': [214], 'occurences': 1},\n",
       " 478: {'locations': [141], 'occurences': 1},\n",
       " 959: {'locations': [178], 'occurences': 1},\n",
       " 968: {'locations': [274], 'occurences': 1},\n",
       " 979: {'locations': [212], 'occurences': 1},\n",
       " 1045: {'locations': [162], 'occurences': 1},\n",
       " 1155: {'locations': [190], 'occurences': 1},\n",
       " 1213: {'locations': [17], 'occurences': 1},\n",
       " 1219: {'locations': [61], 'occurences': 1},\n",
       " 1241: {'locations': [114], 'occurences': 1},\n",
       " 1249: {'locations': [244], 'occurences': 1},\n",
       " 1295: {'locations': [137], 'occurences': 1},\n",
       " 1398: {'locations': [179], 'occurences': 1},\n",
       " 1439: {'locations': [183, 293], 'occurences': 2},\n",
       " 1522: {'locations': [243], 'occurences': 1},\n",
       " 1635: {'locations': [74, 231], 'occurences': 2},\n",
       " 1723: {'locations': [143], 'occurences': 1},\n",
       " 1731: {'locations': [318], 'occurences': 1},\n",
       " 1753: {'locations': [453], 'occurences': 1},\n",
       " 1798: {'locations': [72], 'occurences': 1},\n",
       " 2137: {'locations': [249], 'occurences': 1},\n",
       " 2378: {'locations': [107], 'occurences': 1},\n",
       " 2390: {'locations': [107], 'occurences': 1}}"
      ]
     },
     "execution_count": 7,
     "metadata": {},
     "output_type": "execute_result"
    }
   ],
   "source": [
    "index['abandon']"
   ]
  },
  {
   "cell_type": "markdown",
   "metadata": {},
   "source": [
    "Maintenant essayons avec les fonctions __map__ et __reduce__ :"
   ]
  },
  {
   "cell_type": "code",
   "execution_count": 9,
   "metadata": {},
   "outputs": [
    {
     "name": "stdout",
     "output_type": "stream",
     "text": [
      "CPU times: user 2.51 s, sys: 448 ms, total: 2.96 s\n",
      "Wall time: 6.92 s\n"
     ]
    }
   ],
   "source": [
    "%%time \n",
    "def mapper(x):\n",
    "    return create_index_from_text(texts.Text[x], x)\n",
    "\n",
    "with multiprocessing.Pool(processes=8) as pool:\n",
    "        results = pool.map(mapper, range(len(texts)))\n",
    "        \n",
    "index = reduce(sum_two_indexes, list(results))"
   ]
  },
  {
   "cell_type": "code",
   "execution_count": 8,
   "metadata": {
    "scrolled": true
   },
   "outputs": [
    {
     "data": {
      "text/plain": [
       "{'total_occurences': 33,\n",
       " 78: {'locations': [213], 'occurences': 1},\n",
       " 80: {'locations': [350], 'occurences': 1},\n",
       " 93: {'locations': [213], 'occurences': 1},\n",
       " 257: {'locations': [205], 'occurences': 1},\n",
       " 266: {'locations': [96], 'occurences': 1},\n",
       " 278: {'locations': [163], 'occurences': 1},\n",
       " 293: {'locations': [84], 'occurences': 1},\n",
       " 462: {'locations': [138], 'occurences': 1},\n",
       " 472: {'locations': [214], 'occurences': 1},\n",
       " 478: {'locations': [141], 'occurences': 1},\n",
       " 959: {'locations': [178], 'occurences': 1},\n",
       " 968: {'locations': [274], 'occurences': 1},\n",
       " 979: {'locations': [212], 'occurences': 1},\n",
       " 1045: {'locations': [162], 'occurences': 1},\n",
       " 1155: {'locations': [190], 'occurences': 1},\n",
       " 1213: {'locations': [17], 'occurences': 1},\n",
       " 1219: {'locations': [61], 'occurences': 1},\n",
       " 1241: {'locations': [114], 'occurences': 1},\n",
       " 1249: {'locations': [244], 'occurences': 1},\n",
       " 1295: {'locations': [137], 'occurences': 1},\n",
       " 1398: {'locations': [179], 'occurences': 1},\n",
       " 1439: {'locations': [183, 293], 'occurences': 2},\n",
       " 1522: {'locations': [243], 'occurences': 1},\n",
       " 1635: {'locations': [74, 231], 'occurences': 2},\n",
       " 1723: {'locations': [143], 'occurences': 1},\n",
       " 1731: {'locations': [318], 'occurences': 1},\n",
       " 1753: {'locations': [453], 'occurences': 1},\n",
       " 1798: {'locations': [72], 'occurences': 1},\n",
       " 2137: {'locations': [249], 'occurences': 1},\n",
       " 2378: {'locations': [107], 'occurences': 1},\n",
       " 2390: {'locations': [107], 'occurences': 1}}"
      ]
     },
     "execution_count": 8,
     "metadata": {},
     "output_type": "execute_result"
    }
   ],
   "source": [
    "index['abandon']"
   ]
  },
  {
   "cell_type": "markdown",
   "metadata": {},
   "source": [
    "Les résultats sont heureusement les mêmes, mais l'utilisation de __map__ et __reduce__ divise par 2 le temps de calcul."
   ]
  },
  {
   "cell_type": "markdown",
   "metadata": {},
   "source": [
    "## Création de la matrice TF-IDF\n",
    "\n",
    "La matrice TF_IDF (la représation du corpus dans l'espace TF-IDF) est également créer suivant un modèle _MapReduce_, le __mapper__ étant le calcul du TF-IDF pour chaque documents d'un _token_, le __reducer__ étant une simple concaténation."
   ]
  },
  {
   "cell_type": "code",
   "execution_count": 16,
   "metadata": {},
   "outputs": [
    {
     "name": "stdout",
     "output_type": "stream",
     "text": [
      "CPU times: user 960 ms, sys: 850 ms, total: 1.81 s\n",
      "Wall time: 3.07 s\n"
     ]
    }
   ],
   "source": [
    "%%time\n",
    "tokens_count = generate_tokens_count(index)\n",
    "\n",
    "def mapper(token):\n",
    "    return calculate_tf_idf_for_token(index[token], tokens_count)\n",
    "\n",
    "with multiprocessing.Pool(processes=4) as pool:\n",
    "        results = pool.map(mapper, list(index.keys()))\n",
    "\n",
    "matrix_tfidf = np.concatenate(list(results), axis=1)"
   ]
  },
  {
   "cell_type": "markdown",
   "metadata": {},
   "source": [
    "## Mise en place d'une requête du corpus\n",
    "\n",
    "Pour requêter (_query_) le corpus, nous calculons simplement le produit scalaire de la représentation du texte de la requête dans l'espace TF-IDF par la matrice."
   ]
  },
  {
   "cell_type": "code",
   "execution_count": 28,
   "metadata": {
    "scrolled": true
   },
   "outputs": [
    {
     "name": "stdout",
     "output_type": "stream",
     "text": [
      "CPU times: user 81.1 ms, sys: 14.9 ms, total: 96 ms\n",
      "Wall time: 58.5 ms\n"
     ]
    },
    {
     "data": {
      "text/html": [
       "<div>\n",
       "<style scoped>\n",
       "    .dataframe tbody tr th:only-of-type {\n",
       "        vertical-align: middle;\n",
       "    }\n",
       "\n",
       "    .dataframe tbody tr th {\n",
       "        vertical-align: top;\n",
       "    }\n",
       "\n",
       "    .dataframe thead th {\n",
       "        text-align: right;\n",
       "    }\n",
       "</style>\n",
       "<table border=\"1\" class=\"dataframe\">\n",
       "  <thead>\n",
       "    <tr style=\"text-align: right;\">\n",
       "      <th></th>\n",
       "      <th>DotProduct</th>\n",
       "      <th>Text</th>\n",
       "      <th>Author</th>\n",
       "      <th>DocumentId</th>\n",
       "    </tr>\n",
       "  </thead>\n",
       "  <tbody>\n",
       "    <tr>\n",
       "      <td>1312</td>\n",
       "      <td>0.138641</td>\n",
       "      <td>Zhuhai, China Nov 5. (Reuter) China's flag car...</td>\n",
       "      <td>Jim Gilchrist</td>\n",
       "      <td>166432</td>\n",
       "    </tr>\n",
       "    <tr>\n",
       "      <td>1198</td>\n",
       "      <td>0.135079</td>\n",
       "      <td>China is unlikely to concede on its demand to ...</td>\n",
       "      <td>Jane Macartney</td>\n",
       "      <td>242319</td>\n",
       "    </tr>\n",
       "    <tr>\n",
       "      <td>1150</td>\n",
       "      <td>0.134272</td>\n",
       "      <td>China is unlikely to concede on its demand to ...</td>\n",
       "      <td>Jane Macartney</td>\n",
       "      <td>242519</td>\n",
       "    </tr>\n",
       "    <tr>\n",
       "      <td>830</td>\n",
       "      <td>0.131013</td>\n",
       "      <td>China must make real changes to its economy if...</td>\n",
       "      <td>Mure Dickie</td>\n",
       "      <td>126632</td>\n",
       "    </tr>\n",
       "    <tr>\n",
       "      <td>1825</td>\n",
       "      <td>0.124948</td>\n",
       "      <td>China, in a bid to boost the its aerospace ind...</td>\n",
       "      <td>Tan Ee Lyn</td>\n",
       "      <td>169589</td>\n",
       "    </tr>\n",
       "    <tr>\n",
       "      <td>1320</td>\n",
       "      <td>0.124416</td>\n",
       "      <td>DHL Worldwide Express plans to strengthen its ...</td>\n",
       "      <td>Jim Gilchrist</td>\n",
       "      <td>138497</td>\n",
       "    </tr>\n",
       "    <tr>\n",
       "      <td>1560</td>\n",
       "      <td>0.118853</td>\n",
       "      <td>Wheat is unlikely to become a casualty of the ...</td>\n",
       "      <td>Lynne Donnell</td>\n",
       "      <td>15736</td>\n",
       "    </tr>\n",
       "    <tr>\n",
       "      <td>1380</td>\n",
       "      <td>0.118372</td>\n",
       "      <td>Russia will push to expand economic ties with ...</td>\n",
       "      <td>William Kazer</td>\n",
       "      <td>209813</td>\n",
       "    </tr>\n",
       "    <tr>\n",
       "      <td>1579</td>\n",
       "      <td>0.111065</td>\n",
       "      <td>Wheat is unlikely to become a casualty of the ...</td>\n",
       "      <td>Lynne Donnell</td>\n",
       "      <td>17858</td>\n",
       "    </tr>\n",
       "    <tr>\n",
       "      <td>2287</td>\n",
       "      <td>0.101874</td>\n",
       "      <td>Hong Kong business groups hit back on Wednesda...</td>\n",
       "      <td>Sarah Davison</td>\n",
       "      <td>310654</td>\n",
       "    </tr>\n",
       "    <tr>\n",
       "      <td>2276</td>\n",
       "      <td>0.101571</td>\n",
       "      <td>Hong Kong business groups hit back on Wednesda...</td>\n",
       "      <td>Sarah Davison</td>\n",
       "      <td>310313</td>\n",
       "    </tr>\n",
       "    <tr>\n",
       "      <td>1565</td>\n",
       "      <td>0.101344</td>\n",
       "      <td>While China's leaders peppered 1996 with assur...</td>\n",
       "      <td>Lynne Donnell</td>\n",
       "      <td>275670</td>\n",
       "    </tr>\n",
       "    <tr>\n",
       "      <td>1192</td>\n",
       "      <td>0.099788</td>\n",
       "      <td>China defended on Saturday its decision to exe...</td>\n",
       "      <td>Jane Macartney</td>\n",
       "      <td>301144</td>\n",
       "    </tr>\n",
       "    <tr>\n",
       "      <td>1744</td>\n",
       "      <td>0.099516</td>\n",
       "      <td>With China's takeover of Hong Kong rapidly loo...</td>\n",
       "      <td>Peter Humphrey</td>\n",
       "      <td>227262</td>\n",
       "    </tr>\n",
       "    <tr>\n",
       "      <td>834</td>\n",
       "      <td>0.098860</td>\n",
       "      <td>A China-wide computer network launched by a su...</td>\n",
       "      <td>Mure Dickie</td>\n",
       "      <td>130515</td>\n",
       "    </tr>\n",
       "    <tr>\n",
       "      <td>1398</td>\n",
       "      <td>0.097785</td>\n",
       "      <td>China said on Sunday the United States was try...</td>\n",
       "      <td>William Kazer</td>\n",
       "      <td>195340</td>\n",
       "    </tr>\n",
       "    <tr>\n",
       "      <td>1209</td>\n",
       "      <td>0.097483</td>\n",
       "      <td>China called on Taiwan on Tuesday to show good...</td>\n",
       "      <td>Benjamin Kang Lim</td>\n",
       "      <td>15741</td>\n",
       "    </tr>\n",
       "    <tr>\n",
       "      <td>1563</td>\n",
       "      <td>0.095705</td>\n",
       "      <td>Canadian and Australian sales of malting barle...</td>\n",
       "      <td>Lynne Donnell</td>\n",
       "      <td>180191</td>\n",
       "    </tr>\n",
       "    <tr>\n",
       "      <td>1832</td>\n",
       "      <td>0.093225</td>\n",
       "      <td>Air China, China's largest carrier, plans to i...</td>\n",
       "      <td>Tan Ee Lyn</td>\n",
       "      <td>169609</td>\n",
       "    </tr>\n",
       "    <tr>\n",
       "      <td>1584</td>\n",
       "      <td>0.092658</td>\n",
       "      <td>China's decision to ban imports of some U.S. c...</td>\n",
       "      <td>Lynne Donnell</td>\n",
       "      <td>111855</td>\n",
       "    </tr>\n",
       "  </tbody>\n",
       "</table>\n",
       "</div>"
      ],
      "text/plain": [
       "      DotProduct                                               Text  \\\n",
       "1312    0.138641  Zhuhai, China Nov 5. (Reuter) China's flag car...   \n",
       "1198    0.135079  China is unlikely to concede on its demand to ...   \n",
       "1150    0.134272  China is unlikely to concede on its demand to ...   \n",
       "830     0.131013  China must make real changes to its economy if...   \n",
       "1825    0.124948  China, in a bid to boost the its aerospace ind...   \n",
       "1320    0.124416  DHL Worldwide Express plans to strengthen its ...   \n",
       "1560    0.118853  Wheat is unlikely to become a casualty of the ...   \n",
       "1380    0.118372  Russia will push to expand economic ties with ...   \n",
       "1579    0.111065  Wheat is unlikely to become a casualty of the ...   \n",
       "2287    0.101874  Hong Kong business groups hit back on Wednesda...   \n",
       "2276    0.101571  Hong Kong business groups hit back on Wednesda...   \n",
       "1565    0.101344  While China's leaders peppered 1996 with assur...   \n",
       "1192    0.099788  China defended on Saturday its decision to exe...   \n",
       "1744    0.099516  With China's takeover of Hong Kong rapidly loo...   \n",
       "834     0.098860  A China-wide computer network launched by a su...   \n",
       "1398    0.097785  China said on Sunday the United States was try...   \n",
       "1209    0.097483  China called on Taiwan on Tuesday to show good...   \n",
       "1563    0.095705  Canadian and Australian sales of malting barle...   \n",
       "1832    0.093225  Air China, China's largest carrier, plans to i...   \n",
       "1584    0.092658  China's decision to ban imports of some U.S. c...   \n",
       "\n",
       "                 Author DocumentId  \n",
       "1312      Jim Gilchrist     166432  \n",
       "1198     Jane Macartney     242319  \n",
       "1150     Jane Macartney     242519  \n",
       "830         Mure Dickie     126632  \n",
       "1825         Tan Ee Lyn     169589  \n",
       "1320      Jim Gilchrist     138497  \n",
       "1560      Lynne Donnell      15736  \n",
       "1380      William Kazer     209813  \n",
       "1579      Lynne Donnell      17858  \n",
       "2287      Sarah Davison     310654  \n",
       "2276      Sarah Davison     310313  \n",
       "1565      Lynne Donnell     275670  \n",
       "1192     Jane Macartney     301144  \n",
       "1744     Peter Humphrey     227262  \n",
       "834         Mure Dickie     130515  \n",
       "1398      William Kazer     195340  \n",
       "1209  Benjamin Kang Lim      15741  \n",
       "1563      Lynne Donnell     180191  \n",
       "1832         Tan Ee Lyn     169609  \n",
       "1584      Lynne Donnell     111855  "
      ]
     },
     "execution_count": 28,
     "metadata": {},
     "output_type": "execute_result"
    }
   ],
   "source": [
    "%%time\n",
    "query_corpus(\"china\", index, matrix_tfidf, texts, nb_to_show=20)"
   ]
  },
  {
   "cell_type": "code",
   "execution_count": 91,
   "metadata": {},
   "outputs": [
    {
     "name": "stdout",
     "output_type": "stream",
     "text": [
      "\"franc\" appears in 199 documents.\n",
      "\"air\" appears in 168 documents.\n",
      "All words in 39 documents.\n",
      "Exact matches in  9 documents.\n",
      "{1258, 1291, 1295, 1297, 948, 919, 1274, 1276, 1279}\n",
      "CPU times: user 3.99 ms, sys: 0 ns, total: 3.99 ms\n",
      "Wall time: 3.38 ms\n"
     ]
    }
   ],
   "source": [
    "%%time\n",
    "search_results = search_words(\"france air\", index)\n",
    "print(search_results.get(\"exact_matches\"))"
   ]
  },
  {
   "cell_type": "code",
   "execution_count": 73,
   "metadata": {},
   "outputs": [
    {
     "data": {
      "text/plain": [
       "1"
      ]
     },
     "execution_count": 73,
     "metadata": {},
     "output_type": "execute_result"
    }
   ],
   "source": [
    "len(set(np.asarray(index['china'][1584]['locations'])).intersection(set(np.asarray(index['decis'][1584]['locations']) - 1)))"
   ]
  },
  {
   "cell_type": "code",
   "execution_count": 89,
   "metadata": {},
   "outputs": [
    {
     "name": "stdout",
     "output_type": "stream",
     "text": [
      "\n",
      "--------------------------------------------\n",
      "Author : Pierre Tran\n",
      "Id : 204524\n",
      "--------------------------------------------\n",
      "State-owned Air France on Wednesday reported dramatically improved earnings of 802 million francs ($158 million) in the first half and placed a bumper order for 20 Boeing and Airbus aircraft, plus options.\n",
      "The profit estimate for the six months to September 30, which emerged in an Air France board statement, compared with a loss of 335 million francs a year ago.\n",
      "The improved results and Air France's aim to break even in 1996/97 was underlined with orders for 10 Boeing 777 twinjets, and options for 10 more. The airline also ordered five Airbus A340s, confirmed five orders made in June and options for a further five.\n",
      "Air France chairman Christian Blanc won vital support from Prime Minister Alain Juppe to buy from Seattle-based Boeing instead of ordering solely from its archrival Airbus Industrie , the European consortium based in southwest France.\n",
      "At catalogue prices, which are rarely paid, the orders and options for the Boeing 777-200 version ordered could be worth around $2.7 billion. Airbus would stand to gain $1.75 billion.\n",
      "List prices for the B777-200 range between $128 and $146 million, while the Airbus A340-300 costs $110 to $120 million.\n",
      "\"In the reorganisation of its fleet, Air France is obliged to buy Boeing,\" Transport Minister Bernard Pons told parliament.\n",
      "\"It is obliged to meet commitments made in 1989, unless it accepts losing deposits and taking legal action which risks being much more expensive than taking this decision.\"\n",
      "The French airline had orders outstanding with Boeing worth $994 million and $2 billion of options, Pons said, adding that the airline had skillfully negotiated the latest order to respect the initial undertaking.\n",
      "The three state representatives on the Air France board approved the Boeing 777 purchase \"not because they are the best or the most profitable but because they best meet the company's needs,\" Pons said.\n",
      "Air France had also accepted to be a launch customer for the planned A340-600, a \"stretched\" version of the A340, he said.\n",
      "Airbus hopes to build the 375-seater to smash Boeing's monopoly at the large capacity aircraft segment.\n",
      "Air France said that due to financial problems, it froze at the end of 1994 all aircraft orders, including the 1989 Boeing order, and opened talks with the two plane-makers.\n",
      "Air France has since rationalised its fleet, restructured its network around a centralised \"hub\" at Paris Charles De Gaulle airport and optimised aircraft use. It has over the past two years increased the number of flying hours by 14 percent.\n",
      "Pons welcomed Air France's financial results, saying: \"The results are very encouraging.\"\n",
      "The company said it made its profit despite a rise in spending on fuel of nearly 500 million francs for the period.\n",
      "Turnover was up nearly five percent to 21.3 billion francs due to a 14.8 percent increase in passenger traffic and a 6.7 percent rise in freight.\n",
      "Operating profit rose nearly 30 percent to 1.1 billion francs, compared with 849 million in the year-earlier period. The pretax, pre-exceptional result tripled to 660 million francs.\n",
      "Air France was ahead by \"a little more than 250 million francs of its budget\" at the six months stage, the company said. The first half is traditionally better for seasonal reasons and should not be used to extrapolate for the full year, it added.\n",
      "Debt stood at 12.9 billion francs at September 30, versus 19.2 billion at March 31, 1996. The repayment of 6.3 billion francs significantly exceeded the last tranche of its state recapitalisation paid in September.\n",
      "The Boeing order consists of the heavier \"Increased Gross Weight\" version of the basic 777-200, equipped with GE90 engines built by General Electric and France's Snecma. The B777-200 will seat 288 passengers in three-classes.\n",
      "The Airbus order is for the A340-200E version equipped with CFM56-5C4 engines. ($1=5.075 French Franc)\n",
      "\n"
     ]
    }
   ],
   "source": [
    "view_article(948, texts)"
   ]
  },
  {
   "cell_type": "code",
   "execution_count": null,
   "metadata": {},
   "outputs": [],
   "source": []
  }
 ],
 "metadata": {
  "kernelspec": {
   "display_name": "Python 3",
   "language": "python",
   "name": "python3"
  },
  "language_info": {
   "codemirror_mode": {
    "name": "ipython",
    "version": 3
   },
   "file_extension": ".py",
   "mimetype": "text/x-python",
   "name": "python",
   "nbconvert_exporter": "python",
   "pygments_lexer": "ipython3",
   "version": "3.7.3"
  }
 },
 "nbformat": 4,
 "nbformat_minor": 4
}
